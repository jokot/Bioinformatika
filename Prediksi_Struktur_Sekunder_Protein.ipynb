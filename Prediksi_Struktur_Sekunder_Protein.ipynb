{
  "nbformat": 4,
  "nbformat_minor": 0,
  "metadata": {
    "colab": {
      "name": "Prediksi Struktur Sekunder Protein.ipynb",
      "provenance": [],
      "include_colab_link": true
    },
    "kernelspec": {
      "name": "python3",
      "display_name": "Python 3"
    },
    "accelerator": "GPU"
  },
  "cells": [
    {
      "cell_type": "markdown",
      "metadata": {
        "id": "view-in-github",
        "colab_type": "text"
      },
      "source": [
        "<a href=\"https://colab.research.google.com/github/jokot/Bioinformatika/blob/master/Prediksi_Struktur_Sekunder_Protein.ipynb\" target=\"_parent\"><img src=\"https://colab.research.google.com/assets/colab-badge.svg\" alt=\"Open In Colab\"/></a>"
      ]
    },
    {
      "cell_type": "code",
      "metadata": {
        "id": "B0kIEfQz6nXH",
        "colab_type": "code",
        "colab": {}
      },
      "source": [
        "import numpy as np\n",
        "import pandas as pd\n",
        "import matplotlib.pyplot as plt"
      ],
      "execution_count": 0,
      "outputs": []
    },
    {
      "cell_type": "code",
      "metadata": {
        "id": "YHykhnaB6woz",
        "colab_type": "code",
        "colab": {}
      },
      "source": [
        "import requests\n",
        "import io\n",
        "url=\"https://raw.githubusercontent.com/JiayingLi/Protein-Secondary-Structure-Prediction-using-Convolution-Neural-Network/master/RS126.data\"\n",
        "raw=requests.get(url).content\n",
        "proteinData = pd.read_csv(io.StringIO(raw.decode('utf-8')),header=None)"
      ],
      "execution_count": 0,
      "outputs": []
    },
    {
      "cell_type": "code",
      "metadata": {
        "id": "NeodRjv17I0B",
        "colab_type": "code",
        "outputId": "536e818b-674b-49a8-8cd5-d3728e55eed2",
        "colab": {
          "base_uri": "https://localhost:8080/",
          "height": 197
        }
      },
      "source": [
        "proteinData.head()"
      ],
      "execution_count": 0,
      "outputs": [
        {
          "output_type": "execute_result",
          "data": {
            "text/html": [
              "<div>\n",
              "<style scoped>\n",
              "    .dataframe tbody tr th:only-of-type {\n",
              "        vertical-align: middle;\n",
              "    }\n",
              "\n",
              "    .dataframe tbody tr th {\n",
              "        vertical-align: top;\n",
              "    }\n",
              "\n",
              "    .dataframe thead th {\n",
              "        text-align: right;\n",
              "    }\n",
              "</style>\n",
              "<table border=\"1\" class=\"dataframe\">\n",
              "  <thead>\n",
              "    <tr style=\"text-align: right;\">\n",
              "      <th></th>\n",
              "      <th>0</th>\n",
              "    </tr>\n",
              "  </thead>\n",
              "  <tbody>\n",
              "    <tr>\n",
              "      <th>0</th>\n",
              "      <td>APAFSVSPASGASDGQSVSVSVAAAGETYYIAQCAPVGGQDACNPA...</td>\n",
              "    </tr>\n",
              "    <tr>\n",
              "      <th>1</th>\n",
              "      <td>CCEEEEECCCCCCCCCEEEEEEECCCCEEEEEEECEECCEECCCCC...</td>\n",
              "    </tr>\n",
              "    <tr>\n",
              "      <th>2</th>\n",
              "      <td>CSVDIQGNDQMQFNTNAITVDKSCKQFTVNLSHPGNLPKNVMGHNW...</td>\n",
              "    </tr>\n",
              "    <tr>\n",
              "      <th>3</th>\n",
              "      <td>CCEEEECCCCCCCCCCCEECCCCCCEEEEEEECCCCCCCCCCCECC...</td>\n",
              "    </tr>\n",
              "    <tr>\n",
              "      <th>4</th>\n",
              "      <td>NVYHDGACPEVKPVDNFDWSNYHGKWWEVAKYPNSVEKYGKCGWAE...</td>\n",
              "    </tr>\n",
              "  </tbody>\n",
              "</table>\n",
              "</div>"
            ],
            "text/plain": [
              "                                                   0\n",
              "0  APAFSVSPASGASDGQSVSVSVAAAGETYYIAQCAPVGGQDACNPA...\n",
              "1  CCEEEEECCCCCCCCCEEEEEEECCCCEEEEEEECEECCEECCCCC...\n",
              "2  CSVDIQGNDQMQFNTNAITVDKSCKQFTVNLSHPGNLPKNVMGHNW...\n",
              "3  CCEEEECCCCCCCCCCCEECCCCCCEEEEEEECCCCCCCCCCCECC...\n",
              "4  NVYHDGACPEVKPVDNFDWSNYHGKWWEVAKYPNSVEKYGKCGWAE..."
            ]
          },
          "metadata": {
            "tags": []
          },
          "execution_count": 3
        }
      ]
    },
    {
      "cell_type": "code",
      "metadata": {
        "id": "ETFVBmEE7M7m",
        "colab_type": "code",
        "outputId": "5068a250-a9ec-42b9-f022-c6d2437e9e77",
        "colab": {
          "base_uri": "https://localhost:8080/",
          "height": 33
        }
      },
      "source": [
        "print(len(proteinData))"
      ],
      "execution_count": 0,
      "outputs": [
        {
          "output_type": "stream",
          "text": [
            "252\n"
          ],
          "name": "stdout"
        }
      ]
    },
    {
      "cell_type": "code",
      "metadata": {
        "id": "vsAbKQh67Puu",
        "colab_type": "code",
        "colab": {}
      },
      "source": [
        "#split struktur primer dan struktur sekunder\n",
        "primer = []\n",
        "sekunder = []\n",
        "for i in range(0,len(proteinData),2) :\n",
        "    if (len(proteinData.iloc[i,0]) != len(proteinData.iloc[i+1,0])) :\n",
        "        continue\n",
        "    primer.append(proteinData.iloc[i,0])\n",
        "    sekunder.append(proteinData.iloc[i+1,0])"
      ],
      "execution_count": 0,
      "outputs": []
    },
    {
      "cell_type": "code",
      "metadata": {
        "id": "swbLS2eO7Tgk",
        "colab_type": "code",
        "outputId": "86084af7-a06e-4585-c3f2-d215d25f5327",
        "colab": {
          "base_uri": "https://localhost:8080/",
          "height": 186
        }
      },
      "source": [
        "print('Banyak sampel : ',len(primer))\n",
        "print('Contoh struktur primer :')\n",
        "for i in range(7) :\n",
        "    print(i+1,' : ',primer[i])"
      ],
      "execution_count": 0,
      "outputs": [
        {
          "output_type": "stream",
          "text": [
            "Banyak sampel :  125\n",
            "Contoh struktur primer :\n",
            "1  :  APAFSVSPASGASDGQSVSVSVAAAGETYYIAQCAPVGGQDACNPATATSFTTDASGAASFSFTVRKSYAGQTPSGTPVGSVDCATDACNLGAGNSGLNLGHVALTFG\n",
            "2  :  CSVDIQGNDQMQFNTNAITVDKSCKQFTVNLSHPGNLPKNVMGHNWVLSTAADMQGVVTDGMASGLDKDYLKPDDSRVIAHTKLIGSGEKDSVTFDVSKLKEGEQYMFFCTFPGHSALMKGTLTLK\n",
            "3  :  NVYHDGACPEVKPVDNFDWSNYHGKWWEVAKYPNSVEKYGKCGWAEYTPEGKSVKVSNYHVIHGKEYFIEGTAYPVGDSKIGKIYHKLTYGGVTKENVFNVLSTDNKNYIIGYYCKYDEDKKGHQDFVWVLSRSKVLTGEAKTAVENYLIGSPVVDSQKLVYSDFSEAACKVN\n",
            "4  :  AAPCFCSGKPGRGDLWILRGTCPGGYGYTSNCYKWPNICCYPH\n",
            "5  :  SISQQTVWNQMATVRTPLNFDSSKQSFCQFSVDLLGGGISVDKTGDWITLVQNSPISNLLRVAAWKKGCLMVKVVMSGNAAVKRSDWASLVQVFLTNSNSTEHFDACRWTKSEPHSWELIFPIEVCGPNNGFEMWSSEWANQTSWHLSFLVDNPKQSTTFDVLLGISQNFEIAGNTLMPAFSVPQ\n",
            "6  :  METNLFKLSLDDVETPKGSMLDLKISQSKIALPKNTVGGTILRSDLLANFLTEGNFRASVDLQRTHRIKGMIKMVATVGIPENTGIALACAMNSSIRGRASSDIYTICSQDCELWNPACTKAMTMSFNPNPCSDAWSLEFLKRTGFHCDIICVTGWTATPMQDVQVTIDWFISSQECVPRTYCVLNPQNPFVLNRWMGKLTFPQGTSRSVKRMPLSIGGGAGAKSAILMNMPNAVLSMWRYFVGDLVFEVSKMTSPYIKCTVSFFIAFGNLADDTINFEAFPHKLVQFGEIQEKVVLKFSQEEFLTAWSTQVRPATTLLADGCPYLYAMVHDSSVSTIPGDFVIGVKLTIIENMCAYGLNPGISGSRLLGTIPQ\n",
            "7  :  TQSHYGQCGGIGYSGPTVCASGTTCQVLNPYYSQCL\n"
          ],
          "name": "stdout"
        }
      ]
    },
    {
      "cell_type": "code",
      "metadata": {
        "id": "QIiQzsdq7V3t",
        "colab_type": "code",
        "outputId": "d9ab9dcc-474c-4f03-89f6-9559975d3e0f",
        "colab": {
          "base_uri": "https://localhost:8080/",
          "height": 186
        }
      },
      "source": [
        "print('Banyak sampel : ',len(sekunder))\n",
        "print('Contoh struktur sekunder :')\n",
        "for i in range(7) :\n",
        "    print(i+1,' : ',sekunder[i])"
      ],
      "execution_count": 0,
      "outputs": [
        {
          "output_type": "stream",
          "text": [
            "Banyak sampel :  125\n",
            "Contoh struktur sekunder :\n",
            "1  :  CCEEEEECCCCCCCCCEEEEEEECCCCEEEEEEECEECCEECCCCCCCCEEECCCCCCCEEEEECCCEEEEECCCCCEEEEEECCCCCCEEEEECCCCCCCCCCCCCC\n",
            "2  :  CCEEEECCCCCCCCCCCEECCCCCCEEEEEEECCCCCCCCCCCECCEEEECCCCHHHHHHHHHHCHHHHCCCCCCCCCCECCCCECCCCCEEEEEECCCCCCCCCEEEECCCCCCCCCCEEEEECC\n",
            "3  :  CEEEECCCCCCCCCCCCCHHHCCEEEEEEEECCCCCCCCCEEEEEEEEECCCCEEEEEEEEECCEEEEEEEEEEECCCCCCCEEEEEEEECCEEEEEEEEEEEECCCCEEEEEEEEEECCCCEEEEEEEEEECCCCCCHHHHHHHHHHHHHCCCCCHHHCEECCCCHHHHCCC\n",
            "4  :  CCCCCCCCCCCCCEEECCCCCCCCCCCCCCEEEECCEEEECCC\n",
            "5  :  CCCCCCCCEEEEEEECCCCCCCCCCCEEEEEEECCCCEEECCCCCCCEEEECCCHHHHHHHHECCEEEEEEEEEEEECCCCCCHHHCCCCEEEEEECCCCCCCCCCEEEEECCCCEEEEEEEEEECCCCCCCECCCCCCCCCCCCEEEEEEECCCCCCEEEEEEEECCCCEECCEEECCCEECCC\n",
            "6  :  CCCCCCCCCCCCCCCCCCCCCCCEEEEEEEEECCCCCCCEEEEEEEHHHHHCCCCCCCHHHHHCCCCECCCEEEEEECCCCCCCCCEEEEEEECEECCCCCCCCCCCCCCEEEEECCCCCCCEEEEECCCCCCCCECHHHHHCCCCEEEEEEEECCCCCCCCCEEEEEEEEECCCCCCCCCEECCCCCCCEEEEEEEEEEEECCECCCCCEEEECCCCCCEEECCEEECCHHHHCHHHCCEEEEEEEEEEEECCCCCCECCEEEEEECCCCCCCCHHHHHCCEEEECCCCCCCEEEEEECHHHCCCCEECCCCCCCCCCCCCCCEEEEEECCCEECCCCCCEEEEEEEEEEEEEECCCCCCCCCCCCCCCCCCC\n",
            "7  :  CCCCCCEEECCCCCCCCCCCCCCCEEEEECCEEEEC\n"
          ],
          "name": "stdout"
        }
      ]
    },
    {
      "cell_type": "code",
      "metadata": {
        "id": "DkqjirfE7Yo0",
        "colab_type": "code",
        "colab": {}
      },
      "source": [
        "def encode_primer(residue) :\n",
        "    result = [1 if residue == amino_acid else 0\n",
        "            for amino_acid in ('A', 'R', 'N', 'D', 'C', 'E', 'Q', 'G', 'H', 'I',\n",
        "                               'L', 'K', 'M', 'F', 'P', 'S', 'T', 'W', 'Y', 'V')]\n",
        "    return np.array(result)"
      ],
      "execution_count": 0,
      "outputs": []
    },
    {
      "cell_type": "code",
      "metadata": {
        "id": "BqPB952G7ady",
        "colab_type": "code",
        "colab": {}
      },
      "source": [
        "\n",
        "def encode_sekunder(residue) :\n",
        "    if (residue == 'H') :\n",
        "        return 0\n",
        "    elif (residue == 'E') :\n",
        "        return 1\n",
        "    else :\n",
        "        return 2"
      ],
      "execution_count": 0,
      "outputs": []
    },
    {
      "cell_type": "code",
      "metadata": {
        "id": "NM5A8E6o7c6E",
        "colab_type": "code",
        "colab": {}
      },
      "source": [
        "#Encoding Struktur Primer\n",
        "X = [None]*len(primer)\n",
        "i = 0\n",
        "for seq in primer :\n",
        "    X[i] = []\n",
        "    for j in range(len(seq)) :\n",
        "        res = encode_primer(seq[j])\n",
        "        X[i].append(res)\n",
        "    i+=1"
      ],
      "execution_count": 0,
      "outputs": []
    },
    {
      "cell_type": "code",
      "metadata": {
        "id": "zsHpfwmw7gfs",
        "colab_type": "code",
        "outputId": "0dd32d9d-eb09-4612-dd35-7e330990f745",
        "colab": {
          "base_uri": "https://localhost:8080/",
          "height": 616
        }
      },
      "source": [
        "#Hasil Encoding\n",
        "for i in range(len(X[6])) :\n",
        "    print(primer[6][i],X[6][i])"
      ],
      "execution_count": 0,
      "outputs": [
        {
          "output_type": "stream",
          "text": [
            "T [0 0 0 0 0 0 0 0 0 0 0 0 0 0 0 0 1 0 0 0]\n",
            "Q [0 0 0 0 0 0 1 0 0 0 0 0 0 0 0 0 0 0 0 0]\n",
            "S [0 0 0 0 0 0 0 0 0 0 0 0 0 0 0 1 0 0 0 0]\n",
            "H [0 0 0 0 0 0 0 0 1 0 0 0 0 0 0 0 0 0 0 0]\n",
            "Y [0 0 0 0 0 0 0 0 0 0 0 0 0 0 0 0 0 0 1 0]\n",
            "G [0 0 0 0 0 0 0 1 0 0 0 0 0 0 0 0 0 0 0 0]\n",
            "Q [0 0 0 0 0 0 1 0 0 0 0 0 0 0 0 0 0 0 0 0]\n",
            "C [0 0 0 0 1 0 0 0 0 0 0 0 0 0 0 0 0 0 0 0]\n",
            "G [0 0 0 0 0 0 0 1 0 0 0 0 0 0 0 0 0 0 0 0]\n",
            "G [0 0 0 0 0 0 0 1 0 0 0 0 0 0 0 0 0 0 0 0]\n",
            "I [0 0 0 0 0 0 0 0 0 1 0 0 0 0 0 0 0 0 0 0]\n",
            "G [0 0 0 0 0 0 0 1 0 0 0 0 0 0 0 0 0 0 0 0]\n",
            "Y [0 0 0 0 0 0 0 0 0 0 0 0 0 0 0 0 0 0 1 0]\n",
            "S [0 0 0 0 0 0 0 0 0 0 0 0 0 0 0 1 0 0 0 0]\n",
            "G [0 0 0 0 0 0 0 1 0 0 0 0 0 0 0 0 0 0 0 0]\n",
            "P [0 0 0 0 0 0 0 0 0 0 0 0 0 0 1 0 0 0 0 0]\n",
            "T [0 0 0 0 0 0 0 0 0 0 0 0 0 0 0 0 1 0 0 0]\n",
            "V [0 0 0 0 0 0 0 0 0 0 0 0 0 0 0 0 0 0 0 1]\n",
            "C [0 0 0 0 1 0 0 0 0 0 0 0 0 0 0 0 0 0 0 0]\n",
            "A [1 0 0 0 0 0 0 0 0 0 0 0 0 0 0 0 0 0 0 0]\n",
            "S [0 0 0 0 0 0 0 0 0 0 0 0 0 0 0 1 0 0 0 0]\n",
            "G [0 0 0 0 0 0 0 1 0 0 0 0 0 0 0 0 0 0 0 0]\n",
            "T [0 0 0 0 0 0 0 0 0 0 0 0 0 0 0 0 1 0 0 0]\n",
            "T [0 0 0 0 0 0 0 0 0 0 0 0 0 0 0 0 1 0 0 0]\n",
            "C [0 0 0 0 1 0 0 0 0 0 0 0 0 0 0 0 0 0 0 0]\n",
            "Q [0 0 0 0 0 0 1 0 0 0 0 0 0 0 0 0 0 0 0 0]\n",
            "V [0 0 0 0 0 0 0 0 0 0 0 0 0 0 0 0 0 0 0 1]\n",
            "L [0 0 0 0 0 0 0 0 0 0 1 0 0 0 0 0 0 0 0 0]\n",
            "N [0 0 1 0 0 0 0 0 0 0 0 0 0 0 0 0 0 0 0 0]\n",
            "P [0 0 0 0 0 0 0 0 0 0 0 0 0 0 1 0 0 0 0 0]\n",
            "Y [0 0 0 0 0 0 0 0 0 0 0 0 0 0 0 0 0 0 1 0]\n",
            "Y [0 0 0 0 0 0 0 0 0 0 0 0 0 0 0 0 0 0 1 0]\n",
            "S [0 0 0 0 0 0 0 0 0 0 0 0 0 0 0 1 0 0 0 0]\n",
            "Q [0 0 0 0 0 0 1 0 0 0 0 0 0 0 0 0 0 0 0 0]\n",
            "C [0 0 0 0 1 0 0 0 0 0 0 0 0 0 0 0 0 0 0 0]\n",
            "L [0 0 0 0 0 0 0 0 0 0 1 0 0 0 0 0 0 0 0 0]\n"
          ],
          "name": "stdout"
        }
      ]
    },
    {
      "cell_type": "code",
      "metadata": {
        "id": "RoBDwJId7gag",
        "colab_type": "code",
        "colab": {}
      },
      "source": [
        "#Encoding struktur sekunder\n",
        "Y = [None]*len(sekunder)\n",
        "i = 0\n",
        "for seq in sekunder :\n",
        "    Y[i] = []\n",
        "    for j in range(len(seq)) :\n",
        "        res = encode_sekunder(seq[j])\n",
        "        Y[i].append(res)\n",
        "    i+=1"
      ],
      "execution_count": 0,
      "outputs": []
    },
    {
      "cell_type": "code",
      "metadata": {
        "id": "Idsuj0i47lRy",
        "colab_type": "code",
        "outputId": "436f3b4f-5108-4d99-896c-9ae39c7d8860",
        "colab": {
          "base_uri": "https://localhost:8080/",
          "height": 50
        }
      },
      "source": [
        "#Hasil Encoding struktur sekunder\n",
        "for i in range(len(Y[6])) :\n",
        "    print(sekunder[6][i],end = ' ')\n",
        "print()\n",
        "for i in range(len(Y[6])) :\n",
        "    print(Y[6][i],end=' ')"
      ],
      "execution_count": 0,
      "outputs": [
        {
          "output_type": "stream",
          "text": [
            "C C C C C C E E E C C C C C C C C C C C C C C C E E E E E C C E E E E C \n",
            "2 2 2 2 2 2 1 1 1 2 2 2 2 2 2 2 2 2 2 2 2 2 2 2 1 1 1 1 1 2 2 1 1 1 1 2 "
          ],
          "name": "stdout"
        }
      ]
    },
    {
      "cell_type": "code",
      "metadata": {
        "id": "O52nT5X2wL5-",
        "colab_type": "code",
        "outputId": "1a3cee40-bfdb-49fb-944d-8642eb273dc4",
        "colab": {
          "base_uri": "https://localhost:8080/",
          "height": 33
        }
      },
      "source": [
        "len(Y)"
      ],
      "execution_count": 0,
      "outputs": [
        {
          "output_type": "execute_result",
          "data": {
            "text/plain": [
              "125"
            ]
          },
          "metadata": {
            "tags": []
          },
          "execution_count": 14
        }
      ]
    },
    {
      "cell_type": "code",
      "metadata": {
        "id": "BmnEE8-s7n_2",
        "colab_type": "code",
        "colab": {}
      },
      "source": [
        "temp = []\n",
        "for y in Y :\n",
        "    for yi in y :\n",
        "        temp.append(yi)\n",
        "Y = temp[0:]"
      ],
      "execution_count": 0,
      "outputs": []
    },
    {
      "cell_type": "code",
      "metadata": {
        "id": "9CHPZRgb7qBL",
        "colab_type": "code",
        "outputId": "7d827a11-ee6b-4f52-9b51-eed0db182fac",
        "colab": {
          "base_uri": "https://localhost:8080/",
          "height": 33
        }
      },
      "source": [
        "len(Y)"
      ],
      "execution_count": 0,
      "outputs": [
        {
          "output_type": "execute_result",
          "data": {
            "text/plain": [
              "22594"
            ]
          },
          "metadata": {
            "tags": []
          },
          "execution_count": 16
        }
      ]
    },
    {
      "cell_type": "code",
      "metadata": {
        "id": "W3rtfpnF7tAz",
        "colab_type": "code",
        "colab": {}
      },
      "source": [
        "#Menambahkan Padding dan mengatur besar window(sliding window)\n",
        "def window_padding(size,X) :\n",
        "    num = int(size/2)\n",
        "    zeros = np.array([0 for i in range(20)])\n",
        "    for i in range(len(X)):\n",
        "        for j in range(num):\n",
        "            X[i].append(zeros)\n",
        "            X[i].insert(0, zeros)\n",
        "            \n",
        "    Result = []\n",
        "    temp = []\n",
        "\n",
        "    for i in range(len(X)):\n",
        "        for j in range(len(X[i])-(size-1)):\n",
        "            temp = X[i][j:j+size]\n",
        "            Result.append(temp[0:])\n",
        "            temp = []\n",
        "\n",
        "    return Result"
      ],
      "execution_count": 0,
      "outputs": []
    },
    {
      "cell_type": "code",
      "metadata": {
        "id": "ERdeElhX7u_R",
        "colab_type": "code",
        "colab": {}
      },
      "source": [
        "size = 5 #ukuran window\n",
        "X = window_padding(size,X)"
      ],
      "execution_count": 0,
      "outputs": []
    },
    {
      "cell_type": "code",
      "metadata": {
        "id": "5kVnb9Nz7w2h",
        "colab_type": "code",
        "outputId": "b7dc3c0d-480d-4232-9a9a-7f3415880911",
        "colab": {
          "base_uri": "https://localhost:8080/",
          "height": 33
        }
      },
      "source": [
        "len(X)"
      ],
      "execution_count": 0,
      "outputs": [
        {
          "output_type": "execute_result",
          "data": {
            "text/plain": [
              "22594"
            ]
          },
          "metadata": {
            "tags": []
          },
          "execution_count": 19
        }
      ]
    },
    {
      "cell_type": "code",
      "metadata": {
        "id": "ofpGWmKE7zAS",
        "colab_type": "code",
        "colab": {}
      },
      "source": [
        "X = np.array(X)\n",
        "Y = np.array(Y)\n",
        "X = X.reshape(22594, 5*20)"
      ],
      "execution_count": 0,
      "outputs": []
    },
    {
      "cell_type": "code",
      "metadata": {
        "id": "TQ8xor3pPu_O",
        "colab_type": "code",
        "outputId": "1fcbdd88-948d-4feb-9d60-add60283869d",
        "colab": {
          "base_uri": "https://localhost:8080/",
          "height": 133
        }
      },
      "source": [
        "X"
      ],
      "execution_count": 0,
      "outputs": [
        {
          "output_type": "execute_result",
          "data": {
            "text/plain": [
              "array([[0, 0, 0, ..., 0, 0, 0],\n",
              "       [0, 0, 0, ..., 0, 0, 0],\n",
              "       [1, 0, 0, ..., 0, 0, 0],\n",
              "       ...,\n",
              "       [0, 0, 0, ..., 0, 0, 0],\n",
              "       [0, 0, 0, ..., 0, 0, 0],\n",
              "       [0, 0, 0, ..., 0, 0, 0]])"
            ]
          },
          "metadata": {
            "tags": []
          },
          "execution_count": 21
        }
      ]
    },
    {
      "cell_type": "code",
      "metadata": {
        "id": "ulVW0tW271BT",
        "colab_type": "code",
        "colab": {}
      },
      "source": [
        "from sklearn.model_selection import train_test_split\n",
        "X_train, X_test, Y_train, Y_test = train_test_split(X, Y, test_size = 0.20)"
      ],
      "execution_count": 0,
      "outputs": []
    },
    {
      "cell_type": "code",
      "metadata": {
        "id": "RbZfhJZI73qz",
        "colab_type": "code",
        "colab": {}
      },
      "source": [
        "from sklearn.svm import SVC\n",
        "from sklearn.metrics import classification_report\n",
        "\n",
        "kernels = ['linear', 'rbf', 'poly']\n",
        "gammas = [0.1, 1, 10]\n",
        "Cs = [0.1, 1, 10]"
      ],
      "execution_count": 0,
      "outputs": []
    },
    {
      "cell_type": "code",
      "metadata": {
        "id": "FsyasVAd75kf",
        "colab_type": "code",
        "outputId": "9747c22e-2fc6-420e-e7f1-1d8864f7d7c9",
        "colab": {
          "base_uri": "https://localhost:8080/",
          "height": 1000
        }
      },
      "source": [
        "for kernel in kernels :\n",
        "    for gamma in gammas :\n",
        "        for C in Cs :\n",
        "            svc = SVC(kernel=kernel, gamma = gamma, C=C)\n",
        "            svc.fit(X_train, Y_train)\n",
        "            Y_pred = svc.predict(X_test)\n",
        "            print('kernel : ',kernel,' ','gamma = ',gamma,' ','C = ',' ',C)\n",
        "            print(classification_report(Y_test,Y_pred))"
      ],
      "execution_count": 0,
      "outputs": [
        {
          "output_type": "stream",
          "text": [
            "kernel :  linear   gamma =  0.1   C =    0.1\n",
            "              precision    recall  f1-score   support\n",
            "\n",
            "           0       0.57      0.54      0.55      1450\n",
            "           1       0.54      0.40      0.46      1021\n",
            "           2       0.64      0.74      0.69      2048\n",
            "\n",
            "    accuracy                           0.60      4519\n",
            "   macro avg       0.58      0.56      0.57      4519\n",
            "weighted avg       0.59      0.60      0.59      4519\n",
            "\n",
            "kernel :  linear   gamma =  0.1   C =    1\n",
            "              precision    recall  f1-score   support\n",
            "\n",
            "           0       0.56      0.54      0.55      1450\n",
            "           1       0.52      0.41      0.46      1021\n",
            "           2       0.65      0.74      0.69      2048\n",
            "\n",
            "    accuracy                           0.60      4519\n",
            "   macro avg       0.58      0.56      0.57      4519\n",
            "weighted avg       0.59      0.60      0.59      4519\n",
            "\n",
            "kernel :  linear   gamma =  0.1   C =    10\n",
            "              precision    recall  f1-score   support\n",
            "\n",
            "           0       0.57      0.54      0.55      1450\n",
            "           1       0.52      0.42      0.46      1021\n",
            "           2       0.65      0.74      0.69      2048\n",
            "\n",
            "    accuracy                           0.60      4519\n",
            "   macro avg       0.58      0.56      0.57      4519\n",
            "weighted avg       0.59      0.60      0.60      4519\n",
            "\n",
            "kernel :  linear   gamma =  1   C =    0.1\n",
            "              precision    recall  f1-score   support\n",
            "\n",
            "           0       0.57      0.54      0.55      1450\n",
            "           1       0.54      0.40      0.46      1021\n",
            "           2       0.64      0.74      0.69      2048\n",
            "\n",
            "    accuracy                           0.60      4519\n",
            "   macro avg       0.58      0.56      0.57      4519\n",
            "weighted avg       0.59      0.60      0.59      4519\n",
            "\n",
            "kernel :  linear   gamma =  1   C =    1\n",
            "              precision    recall  f1-score   support\n",
            "\n",
            "           0       0.56      0.54      0.55      1450\n",
            "           1       0.52      0.41      0.46      1021\n",
            "           2       0.65      0.74      0.69      2048\n",
            "\n",
            "    accuracy                           0.60      4519\n",
            "   macro avg       0.58      0.56      0.57      4519\n",
            "weighted avg       0.59      0.60      0.59      4519\n",
            "\n",
            "kernel :  linear   gamma =  1   C =    10\n",
            "              precision    recall  f1-score   support\n",
            "\n",
            "           0       0.57      0.54      0.55      1450\n",
            "           1       0.52      0.42      0.46      1021\n",
            "           2       0.65      0.74      0.69      2048\n",
            "\n",
            "    accuracy                           0.60      4519\n",
            "   macro avg       0.58      0.56      0.57      4519\n",
            "weighted avg       0.59      0.60      0.60      4519\n",
            "\n",
            "kernel :  linear   gamma =  10   C =    0.1\n",
            "              precision    recall  f1-score   support\n",
            "\n",
            "           0       0.57      0.54      0.55      1450\n",
            "           1       0.54      0.40      0.46      1021\n",
            "           2       0.64      0.74      0.69      2048\n",
            "\n",
            "    accuracy                           0.60      4519\n",
            "   macro avg       0.58      0.56      0.57      4519\n",
            "weighted avg       0.59      0.60      0.59      4519\n",
            "\n",
            "kernel :  linear   gamma =  10   C =    1\n",
            "              precision    recall  f1-score   support\n",
            "\n",
            "           0       0.56      0.54      0.55      1450\n",
            "           1       0.52      0.41      0.46      1021\n",
            "           2       0.65      0.74      0.69      2048\n",
            "\n",
            "    accuracy                           0.60      4519\n",
            "   macro avg       0.58      0.56      0.57      4519\n",
            "weighted avg       0.59      0.60      0.59      4519\n",
            "\n",
            "kernel :  linear   gamma =  10   C =    10\n",
            "              precision    recall  f1-score   support\n",
            "\n",
            "           0       0.57      0.54      0.55      1450\n",
            "           1       0.52      0.42      0.46      1021\n",
            "           2       0.65      0.74      0.69      2048\n",
            "\n",
            "    accuracy                           0.60      4519\n",
            "   macro avg       0.58      0.56      0.57      4519\n",
            "weighted avg       0.59      0.60      0.60      4519\n",
            "\n",
            "kernel :  rbf   gamma =  0.1   C =    0.1\n",
            "              precision    recall  f1-score   support\n",
            "\n",
            "           0       0.57      0.53      0.55      1450\n",
            "           1       0.58      0.24      0.34      1021\n",
            "           2       0.60      0.81      0.69      2048\n",
            "\n",
            "    accuracy                           0.59      4519\n",
            "   macro avg       0.58      0.53      0.53      4519\n",
            "weighted avg       0.59      0.59      0.57      4519\n",
            "\n",
            "kernel :  rbf   gamma =  0.1   C =    1\n",
            "              precision    recall  f1-score   support\n",
            "\n",
            "           0       0.58      0.55      0.56      1450\n",
            "           1       0.54      0.39      0.45      1021\n",
            "           2       0.63      0.75      0.69      2048\n",
            "\n",
            "    accuracy                           0.60      4519\n",
            "   macro avg       0.58      0.56      0.57      4519\n",
            "weighted avg       0.60      0.60      0.59      4519\n",
            "\n",
            "kernel :  rbf   gamma =  0.1   C =    10\n",
            "              precision    recall  f1-score   support\n",
            "\n",
            "           0       0.53      0.54      0.53      1450\n",
            "           1       0.48      0.39      0.43      1021\n",
            "           2       0.63      0.68      0.65      2048\n",
            "\n",
            "    accuracy                           0.57      4519\n",
            "   macro avg       0.55      0.54      0.54      4519\n",
            "weighted avg       0.56      0.57      0.56      4519\n",
            "\n",
            "kernel :  rbf   gamma =  1   C =    0.1\n",
            "              precision    recall  f1-score   support\n",
            "\n",
            "           0       0.00      0.00      0.00      1450\n",
            "           1       0.00      0.00      0.00      1021\n",
            "           2       0.45      1.00      0.62      2048\n",
            "\n",
            "    accuracy                           0.45      4519\n",
            "   macro avg       0.15      0.33      0.21      4519\n",
            "weighted avg       0.21      0.45      0.28      4519\n",
            "\n"
          ],
          "name": "stdout"
        },
        {
          "output_type": "stream",
          "text": [
            "/usr/local/lib/python3.6/dist-packages/sklearn/metrics/classification.py:1437: UndefinedMetricWarning: Precision and F-score are ill-defined and being set to 0.0 in labels with no predicted samples.\n",
            "  'precision', 'predicted', average, warn_for)\n"
          ],
          "name": "stderr"
        },
        {
          "output_type": "stream",
          "text": [
            "kernel :  rbf   gamma =  1   C =    1\n",
            "              precision    recall  f1-score   support\n",
            "\n",
            "           0       0.63      0.36      0.45      1450\n",
            "           1       0.59      0.09      0.16      1021\n",
            "           2       0.52      0.89      0.66      2048\n",
            "\n",
            "    accuracy                           0.54      4519\n",
            "   macro avg       0.58      0.45      0.42      4519\n",
            "weighted avg       0.57      0.54      0.48      4519\n",
            "\n",
            "kernel :  rbf   gamma =  1   C =    10\n",
            "              precision    recall  f1-score   support\n",
            "\n",
            "           0       0.59      0.42      0.49      1450\n",
            "           1       0.58      0.18      0.28      1021\n",
            "           2       0.54      0.84      0.66      2048\n",
            "\n",
            "    accuracy                           0.56      4519\n",
            "   macro avg       0.57      0.48      0.48      4519\n",
            "weighted avg       0.57      0.56      0.52      4519\n",
            "\n",
            "kernel :  rbf   gamma =  10   C =    0.1\n",
            "              precision    recall  f1-score   support\n",
            "\n",
            "           0       0.00      0.00      0.00      1450\n",
            "           1       0.00      0.00      0.00      1021\n",
            "           2       0.45      1.00      0.62      2048\n",
            "\n",
            "    accuracy                           0.45      4519\n",
            "   macro avg       0.15      0.33      0.21      4519\n",
            "weighted avg       0.21      0.45      0.28      4519\n",
            "\n"
          ],
          "name": "stdout"
        },
        {
          "output_type": "stream",
          "text": [
            "/usr/local/lib/python3.6/dist-packages/sklearn/metrics/classification.py:1437: UndefinedMetricWarning: Precision and F-score are ill-defined and being set to 0.0 in labels with no predicted samples.\n",
            "  'precision', 'predicted', average, warn_for)\n"
          ],
          "name": "stderr"
        },
        {
          "output_type": "stream",
          "text": [
            "kernel :  rbf   gamma =  10   C =    1\n",
            "              precision    recall  f1-score   support\n",
            "\n",
            "           0       0.60      0.01      0.02      1450\n",
            "           1       0.47      0.01      0.02      1021\n",
            "           2       0.45      0.99      0.62      2048\n",
            "\n",
            "    accuracy                           0.46      4519\n",
            "   macro avg       0.51      0.34      0.22      4519\n",
            "weighted avg       0.50      0.46      0.29      4519\n",
            "\n",
            "kernel :  rbf   gamma =  10   C =    10\n",
            "              precision    recall  f1-score   support\n",
            "\n",
            "           0       0.60      0.01      0.02      1450\n",
            "           1       0.47      0.01      0.02      1021\n",
            "           2       0.45      0.99      0.62      2048\n",
            "\n",
            "    accuracy                           0.46      4519\n",
            "   macro avg       0.51      0.34      0.22      4519\n",
            "weighted avg       0.50      0.46      0.29      4519\n",
            "\n",
            "kernel :  poly   gamma =  0.1   C =    0.1\n",
            "              precision    recall  f1-score   support\n",
            "\n",
            "           0       0.00      0.00      0.00      1450\n",
            "           1       0.00      0.00      0.00      1021\n",
            "           2       0.45      1.00      0.62      2048\n",
            "\n",
            "    accuracy                           0.45      4519\n",
            "   macro avg       0.15      0.33      0.21      4519\n",
            "weighted avg       0.21      0.45      0.28      4519\n",
            "\n"
          ],
          "name": "stdout"
        },
        {
          "output_type": "stream",
          "text": [
            "/usr/local/lib/python3.6/dist-packages/sklearn/metrics/classification.py:1437: UndefinedMetricWarning: Precision and F-score are ill-defined and being set to 0.0 in labels with no predicted samples.\n",
            "  'precision', 'predicted', average, warn_for)\n"
          ],
          "name": "stderr"
        },
        {
          "output_type": "stream",
          "text": [
            "kernel :  poly   gamma =  0.1   C =    1\n",
            "              precision    recall  f1-score   support\n",
            "\n",
            "           0       0.65      0.31      0.42      1450\n",
            "           1       0.72      0.04      0.08      1021\n",
            "           2       0.51      0.94      0.66      2048\n",
            "\n",
            "    accuracy                           0.53      4519\n",
            "   macro avg       0.63      0.43      0.39      4519\n",
            "weighted avg       0.60      0.53      0.45      4519\n",
            "\n",
            "kernel :  poly   gamma =  0.1   C =    10\n",
            "              precision    recall  f1-score   support\n",
            "\n",
            "           0       0.56      0.53      0.54      1450\n",
            "           1       0.51      0.36      0.42      1021\n",
            "           2       0.61      0.73      0.67      2048\n",
            "\n",
            "    accuracy                           0.58      4519\n",
            "   macro avg       0.56      0.54      0.54      4519\n",
            "weighted avg       0.57      0.58      0.57      4519\n",
            "\n",
            "kernel :  poly   gamma =  1   C =    0.1\n",
            "              precision    recall  f1-score   support\n",
            "\n",
            "           0       0.49      0.50      0.50      1450\n",
            "           1       0.43      0.37      0.40      1021\n",
            "           2       0.60      0.63      0.61      2048\n",
            "\n",
            "    accuracy                           0.53      4519\n",
            "   macro avg       0.51      0.50      0.50      4519\n",
            "weighted avg       0.53      0.53      0.53      4519\n",
            "\n",
            "kernel :  poly   gamma =  1   C =    1\n",
            "              precision    recall  f1-score   support\n",
            "\n",
            "           0       0.49      0.50      0.50      1450\n",
            "           1       0.43      0.38      0.40      1021\n",
            "           2       0.60      0.63      0.61      2048\n",
            "\n",
            "    accuracy                           0.53      4519\n",
            "   macro avg       0.51      0.50      0.50      4519\n",
            "weighted avg       0.53      0.53      0.53      4519\n",
            "\n",
            "kernel :  poly   gamma =  1   C =    10\n",
            "              precision    recall  f1-score   support\n",
            "\n",
            "           0       0.49      0.50      0.50      1450\n",
            "           1       0.43      0.38      0.40      1021\n",
            "           2       0.60      0.63      0.61      2048\n",
            "\n",
            "    accuracy                           0.53      4519\n",
            "   macro avg       0.51      0.50      0.50      4519\n",
            "weighted avg       0.53      0.53      0.53      4519\n",
            "\n",
            "kernel :  poly   gamma =  10   C =    0.1\n",
            "              precision    recall  f1-score   support\n",
            "\n",
            "           0       0.49      0.50      0.50      1450\n",
            "           1       0.43      0.38      0.40      1021\n",
            "           2       0.60      0.63      0.61      2048\n",
            "\n",
            "    accuracy                           0.53      4519\n",
            "   macro avg       0.51      0.50      0.50      4519\n",
            "weighted avg       0.53      0.53      0.53      4519\n",
            "\n",
            "kernel :  poly   gamma =  10   C =    1\n",
            "              precision    recall  f1-score   support\n",
            "\n",
            "           0       0.49      0.50      0.50      1450\n",
            "           1       0.43      0.38      0.40      1021\n",
            "           2       0.60      0.63      0.61      2048\n",
            "\n",
            "    accuracy                           0.53      4519\n",
            "   macro avg       0.51      0.50      0.50      4519\n",
            "weighted avg       0.53      0.53      0.53      4519\n",
            "\n",
            "kernel :  poly   gamma =  10   C =    10\n",
            "              precision    recall  f1-score   support\n",
            "\n",
            "           0       0.49      0.50      0.50      1450\n",
            "           1       0.43      0.38      0.40      1021\n",
            "           2       0.60      0.63      0.61      2048\n",
            "\n",
            "    accuracy                           0.53      4519\n",
            "   macro avg       0.51      0.50      0.50      4519\n",
            "weighted avg       0.53      0.53      0.53      4519\n",
            "\n"
          ],
          "name": "stdout"
        }
      ]
    }
  ]
}